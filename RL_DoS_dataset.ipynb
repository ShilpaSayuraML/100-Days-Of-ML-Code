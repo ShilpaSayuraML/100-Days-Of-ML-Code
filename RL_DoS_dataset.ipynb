{
  "nbformat": 4,
  "nbformat_minor": 0,
  "metadata": {
    "colab": {
      "provenance": [],
      "mount_file_id": "1YsXwLBN3BAJKHVo3k81CC7O9TvfJFffR",
      "authorship_tag": "ABX9TyPT9IJUSxgdEY6exXffV+mi",
      "include_colab_link": true
    },
    "kernelspec": {
      "name": "python3",
      "display_name": "Python 3"
    },
    "language_info": {
      "name": "python"
    }
  },
  "cells": [
    {
      "cell_type": "markdown",
      "metadata": {
        "id": "view-in-github",
        "colab_type": "text"
      },
      "source": [
        "<a href=\"https://colab.research.google.com/github/ShilpaSayuraML/100-Days-Of-ML-Code/blob/master/RL_DoS_dataset.ipynb\" target=\"_parent\"><img src=\"https://colab.research.google.com/assets/colab-badge.svg\" alt=\"Open In Colab\"/></a>"
      ]
    },
    {
      "cell_type": "code",
      "execution_count": null,
      "metadata": {
        "id": "Oqt0e6WHoZ73"
      },
      "outputs": [],
      "source": [
        "import os              # loading files\n",
        "import numpy as np     # intermediary data handling\n",
        "import pandas as pd    # data processing"
      ]
    },
    {
      "cell_type": "code",
      "source": [
        "!pip install kaggle\n"
      ],
      "metadata": {
        "colab": {
          "base_uri": "https://localhost:8080/"
        },
        "id": "jgoeFue_sIo-",
        "outputId": "4c16c818-c9b3-48f0-cdc7-b55dfc77464c"
      },
      "execution_count": null,
      "outputs": [
        {
          "output_type": "stream",
          "name": "stdout",
          "text": [
            "Requirement already satisfied: kaggle in /usr/local/lib/python3.10/dist-packages (1.6.17)\n",
            "Requirement already satisfied: six>=1.10 in /usr/local/lib/python3.10/dist-packages (from kaggle) (1.16.0)\n",
            "Requirement already satisfied: certifi>=2023.7.22 in /usr/local/lib/python3.10/dist-packages (from kaggle) (2024.7.4)\n",
            "Requirement already satisfied: python-dateutil in /usr/local/lib/python3.10/dist-packages (from kaggle) (2.8.2)\n",
            "Requirement already satisfied: requests in /usr/local/lib/python3.10/dist-packages (from kaggle) (2.32.3)\n",
            "Requirement already satisfied: tqdm in /usr/local/lib/python3.10/dist-packages (from kaggle) (4.66.5)\n",
            "Requirement already satisfied: python-slugify in /usr/local/lib/python3.10/dist-packages (from kaggle) (8.0.4)\n",
            "Requirement already satisfied: urllib3 in /usr/local/lib/python3.10/dist-packages (from kaggle) (2.0.7)\n",
            "Requirement already satisfied: bleach in /usr/local/lib/python3.10/dist-packages (from kaggle) (6.1.0)\n",
            "Requirement already satisfied: webencodings in /usr/local/lib/python3.10/dist-packages (from bleach->kaggle) (0.5.1)\n",
            "Requirement already satisfied: text-unidecode>=1.3 in /usr/local/lib/python3.10/dist-packages (from python-slugify->kaggle) (1.3)\n",
            "Requirement already satisfied: charset-normalizer<4,>=2 in /usr/local/lib/python3.10/dist-packages (from requests->kaggle) (3.3.2)\n",
            "Requirement already satisfied: idna<4,>=2.5 in /usr/local/lib/python3.10/dist-packages (from requests->kaggle) (3.7)\n"
          ]
        }
      ]
    },
    {
      "cell_type": "markdown",
      "source": [
        "go to kaggld\n",
        "- settings > expire token > creats new >\n",
        "download kaggle.json, upload to colab"
      ],
      "metadata": {
        "id": "zMfpaJwjtLBW"
      }
    },
    {
      "cell_type": "code",
      "source": [
        "from google.colab import files\n",
        "files.upload()  # Upload kaggle.json here"
      ],
      "metadata": {
        "colab": {
          "base_uri": "https://localhost:8080/",
          "height": 91
        },
        "id": "mQ3-HqTitb07",
        "outputId": "a4ac6ba5-9a63-46c1-ce53-b920073279cb"
      },
      "execution_count": null,
      "outputs": [
        {
          "output_type": "display_data",
          "data": {
            "text/plain": [
              "<IPython.core.display.HTML object>"
            ],
            "text/html": [
              "\n",
              "     <input type=\"file\" id=\"files-9e060806-3e2e-4203-b521-4fcc2dbf40a3\" name=\"files[]\" multiple disabled\n",
              "        style=\"border:none\" />\n",
              "     <output id=\"result-9e060806-3e2e-4203-b521-4fcc2dbf40a3\">\n",
              "      Upload widget is only available when the cell has been executed in the\n",
              "      current browser session. Please rerun this cell to enable.\n",
              "      </output>\n",
              "      <script>// Copyright 2017 Google LLC\n",
              "//\n",
              "// Licensed under the Apache License, Version 2.0 (the \"License\");\n",
              "// you may not use this file except in compliance with the License.\n",
              "// You may obtain a copy of the License at\n",
              "//\n",
              "//      http://www.apache.org/licenses/LICENSE-2.0\n",
              "//\n",
              "// Unless required by applicable law or agreed to in writing, software\n",
              "// distributed under the License is distributed on an \"AS IS\" BASIS,\n",
              "// WITHOUT WARRANTIES OR CONDITIONS OF ANY KIND, either express or implied.\n",
              "// See the License for the specific language governing permissions and\n",
              "// limitations under the License.\n",
              "\n",
              "/**\n",
              " * @fileoverview Helpers for google.colab Python module.\n",
              " */\n",
              "(function(scope) {\n",
              "function span(text, styleAttributes = {}) {\n",
              "  const element = document.createElement('span');\n",
              "  element.textContent = text;\n",
              "  for (const key of Object.keys(styleAttributes)) {\n",
              "    element.style[key] = styleAttributes[key];\n",
              "  }\n",
              "  return element;\n",
              "}\n",
              "\n",
              "// Max number of bytes which will be uploaded at a time.\n",
              "const MAX_PAYLOAD_SIZE = 100 * 1024;\n",
              "\n",
              "function _uploadFiles(inputId, outputId) {\n",
              "  const steps = uploadFilesStep(inputId, outputId);\n",
              "  const outputElement = document.getElementById(outputId);\n",
              "  // Cache steps on the outputElement to make it available for the next call\n",
              "  // to uploadFilesContinue from Python.\n",
              "  outputElement.steps = steps;\n",
              "\n",
              "  return _uploadFilesContinue(outputId);\n",
              "}\n",
              "\n",
              "// This is roughly an async generator (not supported in the browser yet),\n",
              "// where there are multiple asynchronous steps and the Python side is going\n",
              "// to poll for completion of each step.\n",
              "// This uses a Promise to block the python side on completion of each step,\n",
              "// then passes the result of the previous step as the input to the next step.\n",
              "function _uploadFilesContinue(outputId) {\n",
              "  const outputElement = document.getElementById(outputId);\n",
              "  const steps = outputElement.steps;\n",
              "\n",
              "  const next = steps.next(outputElement.lastPromiseValue);\n",
              "  return Promise.resolve(next.value.promise).then((value) => {\n",
              "    // Cache the last promise value to make it available to the next\n",
              "    // step of the generator.\n",
              "    outputElement.lastPromiseValue = value;\n",
              "    return next.value.response;\n",
              "  });\n",
              "}\n",
              "\n",
              "/**\n",
              " * Generator function which is called between each async step of the upload\n",
              " * process.\n",
              " * @param {string} inputId Element ID of the input file picker element.\n",
              " * @param {string} outputId Element ID of the output display.\n",
              " * @return {!Iterable<!Object>} Iterable of next steps.\n",
              " */\n",
              "function* uploadFilesStep(inputId, outputId) {\n",
              "  const inputElement = document.getElementById(inputId);\n",
              "  inputElement.disabled = false;\n",
              "\n",
              "  const outputElement = document.getElementById(outputId);\n",
              "  outputElement.innerHTML = '';\n",
              "\n",
              "  const pickedPromise = new Promise((resolve) => {\n",
              "    inputElement.addEventListener('change', (e) => {\n",
              "      resolve(e.target.files);\n",
              "    });\n",
              "  });\n",
              "\n",
              "  const cancel = document.createElement('button');\n",
              "  inputElement.parentElement.appendChild(cancel);\n",
              "  cancel.textContent = 'Cancel upload';\n",
              "  const cancelPromise = new Promise((resolve) => {\n",
              "    cancel.onclick = () => {\n",
              "      resolve(null);\n",
              "    };\n",
              "  });\n",
              "\n",
              "  // Wait for the user to pick the files.\n",
              "  const files = yield {\n",
              "    promise: Promise.race([pickedPromise, cancelPromise]),\n",
              "    response: {\n",
              "      action: 'starting',\n",
              "    }\n",
              "  };\n",
              "\n",
              "  cancel.remove();\n",
              "\n",
              "  // Disable the input element since further picks are not allowed.\n",
              "  inputElement.disabled = true;\n",
              "\n",
              "  if (!files) {\n",
              "    return {\n",
              "      response: {\n",
              "        action: 'complete',\n",
              "      }\n",
              "    };\n",
              "  }\n",
              "\n",
              "  for (const file of files) {\n",
              "    const li = document.createElement('li');\n",
              "    li.append(span(file.name, {fontWeight: 'bold'}));\n",
              "    li.append(span(\n",
              "        `(${file.type || 'n/a'}) - ${file.size} bytes, ` +\n",
              "        `last modified: ${\n",
              "            file.lastModifiedDate ? file.lastModifiedDate.toLocaleDateString() :\n",
              "                                    'n/a'} - `));\n",
              "    const percent = span('0% done');\n",
              "    li.appendChild(percent);\n",
              "\n",
              "    outputElement.appendChild(li);\n",
              "\n",
              "    const fileDataPromise = new Promise((resolve) => {\n",
              "      const reader = new FileReader();\n",
              "      reader.onload = (e) => {\n",
              "        resolve(e.target.result);\n",
              "      };\n",
              "      reader.readAsArrayBuffer(file);\n",
              "    });\n",
              "    // Wait for the data to be ready.\n",
              "    let fileData = yield {\n",
              "      promise: fileDataPromise,\n",
              "      response: {\n",
              "        action: 'continue',\n",
              "      }\n",
              "    };\n",
              "\n",
              "    // Use a chunked sending to avoid message size limits. See b/62115660.\n",
              "    let position = 0;\n",
              "    do {\n",
              "      const length = Math.min(fileData.byteLength - position, MAX_PAYLOAD_SIZE);\n",
              "      const chunk = new Uint8Array(fileData, position, length);\n",
              "      position += length;\n",
              "\n",
              "      const base64 = btoa(String.fromCharCode.apply(null, chunk));\n",
              "      yield {\n",
              "        response: {\n",
              "          action: 'append',\n",
              "          file: file.name,\n",
              "          data: base64,\n",
              "        },\n",
              "      };\n",
              "\n",
              "      let percentDone = fileData.byteLength === 0 ?\n",
              "          100 :\n",
              "          Math.round((position / fileData.byteLength) * 100);\n",
              "      percent.textContent = `${percentDone}% done`;\n",
              "\n",
              "    } while (position < fileData.byteLength);\n",
              "  }\n",
              "\n",
              "  // All done.\n",
              "  yield {\n",
              "    response: {\n",
              "      action: 'complete',\n",
              "    }\n",
              "  };\n",
              "}\n",
              "\n",
              "scope.google = scope.google || {};\n",
              "scope.google.colab = scope.google.colab || {};\n",
              "scope.google.colab._files = {\n",
              "  _uploadFiles,\n",
              "  _uploadFilesContinue,\n",
              "};\n",
              "})(self);\n",
              "</script> "
            ]
          },
          "metadata": {}
        },
        {
          "output_type": "stream",
          "name": "stdout",
          "text": [
            "Saving kaggle.json to kaggle.json\n"
          ]
        },
        {
          "output_type": "execute_result",
          "data": {
            "text/plain": [
              "{'kaggle.json': b'{\"username\":\"shilpasayura\",\"key\":\"6820ac8972b4b0cd8e42ba8760846c15\"}'}"
            ]
          },
          "metadata": {},
          "execution_count": 4
        }
      ]
    },
    {
      "cell_type": "code",
      "source": [
        "import os\n",
        "os.makedirs('/root/.kaggle', exist_ok=True)\n",
        "os.rename('kaggle.json', '/root/.kaggle/kaggle.json')"
      ],
      "metadata": {
        "id": "7FbF6nvyt4lD"
      },
      "execution_count": null,
      "outputs": []
    },
    {
      "cell_type": "code",
      "source": [
        "!kaggle datasets files madhavmalhotra/unb-cic-iot-dataset"
      ],
      "metadata": {
        "colab": {
          "base_uri": "https://localhost:8080/"
        },
        "id": "V2yU7JSIuX0u",
        "outputId": "a09622f3-3e48-4080-b25f-096b06639df5"
      },
      "execution_count": null,
      "outputs": [
        {
          "output_type": "stream",
          "name": "stdout",
          "text": [
            "Warning: Your Kaggle API key is readable by other users on this system! To fix this, you can run 'chmod 600 /root/.kaggle/kaggle.json'\n",
            "Next Page Token = CfDJ8KYuHWNamC1InhMNNsTMbrqGwbH-6VwHHSRwIZoNinUK34hXf6Oge0S1L0mu5AeluuEA5s_yOs3EJiBsAQb_els\n",
            "name                                                                               size  creationDate         \n",
            "---------------------------------------------------------------------------------  ----  -------------------  \n",
            "wataiData/README - README.pdf                                                       1MB  2023-09-06 14:06:28  \n",
            "wataiData/csv/CICIoT2023/part-00000-363d1ba3-8ab5-4f96-bc25-4d5862db7cb9-c000.csv  67MB  2023-09-06 14:07:18  \n",
            "wataiData/csv/CICIoT2023/part-00001-363d1ba3-8ab5-4f96-bc25-4d5862db7cb9-c000.csv  61MB  2023-09-06 14:06:39  \n",
            "wataiData/csv/CICIoT2023/part-00002-363d1ba3-8ab5-4f96-bc25-4d5862db7cb9-c000.csv  77MB  2023-09-06 14:07:51  \n",
            "wataiData/csv/CICIoT2023/part-00003-363d1ba3-8ab5-4f96-bc25-4d5862db7cb9-c000.csv  65MB  2023-09-06 14:06:56  \n",
            "wataiData/csv/CICIoT2023/part-00004-363d1ba3-8ab5-4f96-bc25-4d5862db7cb9-c000.csv  64MB  2023-09-06 14:06:48  \n",
            "wataiData/csv/CICIoT2023/part-00005-363d1ba3-8ab5-4f96-bc25-4d5862db7cb9-c000.csv  67MB  2023-09-06 14:07:24  \n",
            "wataiData/csv/CICIoT2023/part-00006-363d1ba3-8ab5-4f96-bc25-4d5862db7cb9-c000.csv  66MB  2023-09-06 14:07:05  \n",
            "wataiData/csv/CICIoT2023/part-00007-363d1ba3-8ab5-4f96-bc25-4d5862db7cb9-c000.csv  64MB  2023-09-06 14:06:50  \n",
            "wataiData/csv/CICIoT2023/part-00008-363d1ba3-8ab5-4f96-bc25-4d5862db7cb9-c000.csv  69MB  2023-09-06 14:07:33  \n",
            "wataiData/csv/CICIoT2023/part-00009-363d1ba3-8ab5-4f96-bc25-4d5862db7cb9-c000.csv  64MB  2023-09-06 14:06:49  \n",
            "wataiData/csv/CICIoT2023/part-00010-363d1ba3-8ab5-4f96-bc25-4d5862db7cb9-c000.csv  71MB  2023-09-06 14:07:39  \n",
            "wataiData/csv/CICIoT2023/part-00011-363d1ba3-8ab5-4f96-bc25-4d5862db7cb9-c000.csv  62MB  2023-09-06 14:06:42  \n",
            "wataiData/csv/CICIoT2023/part-00012-363d1ba3-8ab5-4f96-bc25-4d5862db7cb9-c000.csv  67MB  2023-09-06 14:07:17  \n",
            "wataiData/csv/CICIoT2023/part-00013-363d1ba3-8ab5-4f96-bc25-4d5862db7cb9-c000.csv  67MB  2023-09-06 14:07:18  \n",
            "wataiData/csv/CICIoT2023/part-00014-363d1ba3-8ab5-4f96-bc25-4d5862db7cb9-c000.csv  61MB  2023-09-06 14:06:37  \n",
            "wataiData/csv/CICIoT2023/part-00015-363d1ba3-8ab5-4f96-bc25-4d5862db7cb9-c000.csv  75MB  2023-09-06 14:07:50  \n",
            "wataiData/csv/CICIoT2023/part-00016-363d1ba3-8ab5-4f96-bc25-4d5862db7cb9-c000.csv  65MB  2023-09-06 14:07:03  \n",
            "wataiData/csv/CICIoT2023/part-00017-363d1ba3-8ab5-4f96-bc25-4d5862db7cb9-c000.csv  63MB  2023-09-06 14:06:43  \n",
            "wataiData/csv/CICIoT2023/part-00018-363d1ba3-8ab5-4f96-bc25-4d5862db7cb9-c000.csv  66MB  2023-09-06 14:07:06  \n"
          ]
        }
      ]
    },
    {
      "cell_type": "code",
      "source": [
        "!kaggle datasets download -d madhavmalhotra/unb-cic-iot-dataset"
      ],
      "metadata": {
        "colab": {
          "base_uri": "https://localhost:8080/"
        },
        "id": "58oCBKhl2Q2W",
        "outputId": "28fbed50-301d-4e7c-90c0-30a629be5af9"
      },
      "execution_count": null,
      "outputs": [
        {
          "output_type": "stream",
          "name": "stdout",
          "text": [
            "Warning: Your Kaggle API key is readable by other users on this system! To fix this, you can run 'chmod 600 /root/.kaggle/kaggle.json'\n",
            "Dataset URL: https://www.kaggle.com/datasets/madhavmalhotra/unb-cic-iot-dataset\n",
            "License(s): other\n",
            "Downloading unb-cic-iot-dataset.zip to /content\n",
            "100% 2.76G/2.77G [00:58<00:00, 83.5MB/s]\n",
            "100% 2.77G/2.77G [00:58<00:00, 51.2MB/s]\n"
          ]
        }
      ]
    },
    {
      "cell_type": "code",
      "source": [
        "import zipfile\n",
        "\n",
        "# Unzip the downloaded dataset\n",
        "with zipfile.ZipFile('unb-cic-iot-dataset.zip', 'r') as zip_ref:\n",
        "    zip_ref.extractall('unb-cic-iot-dataset')\n",
        "\n",
        "# Check if the specific file exists\n",
        "specific_file_path = 'unb-cic-iot-dataset/wataiData/csv/CICIoT2023/part-00000-363d1ba3-8ab5-4f96-bc25-4d5862db7cb9-c000.csv'\n",
        "if os.path.exists(specific_file_path):\n",
        "    print(f\"File found at: {specific_file_path}\")\n",
        "else:\n",
        "    print(\"File not found.\")\n"
      ],
      "metadata": {
        "colab": {
          "base_uri": "https://localhost:8080/"
        },
        "id": "I_PNkP1Q5R7W",
        "outputId": "87268da8-d9cb-4934-91fb-260941033338"
      },
      "execution_count": null,
      "outputs": [
        {
          "output_type": "stream",
          "name": "stdout",
          "text": [
            "File found at: unb-cic-iot-dataset/wataiData/csv/CICIoT2023/part-00000-363d1ba3-8ab5-4f96-bc25-4d5862db7cb9-c000.csv\n"
          ]
        }
      ]
    },
    {
      "cell_type": "code",
      "source": [
        "import os\n",
        "\n",
        "# Directory containing the CSV files\n",
        "directory_path = '/content/unb-cic-iot-dataset/wataiData/csv/CICIoT2023'\n",
        "\n",
        "# Count the number of CSV files in the directory\n",
        "csv_files = [file for file in os.listdir(directory_path) if file.endswith('.csv')]\n",
        "csv_file_count = len(csv_files)\n",
        "\n",
        "print(f\"Number of CSV files: {csv_file_count}\")\n"
      ],
      "metadata": {
        "colab": {
          "base_uri": "https://localhost:8080/"
        },
        "id": "FTS8IG0T7boy",
        "outputId": "c876deb8-e26e-4264-ca5a-10496aae2bf2"
      },
      "execution_count": null,
      "outputs": [
        {
          "output_type": "stream",
          "name": "stdout",
          "text": [
            "Number of CSV files: 169\n"
          ]
        }
      ]
    },
    {
      "cell_type": "code",
      "source": [
        "import pandas as pd\n",
        "import os\n",
        "\n",
        "# List to store DataFrames\n",
        "dfs = []\n",
        "\n",
        "# Loop through files and read them into DataFrames\n",
        "for i in range(0, 3):\n",
        "    # Construct the filename based on the loop index\n",
        "    if i < 10:\n",
        "        filename = f\"/content/unb-cic-iot-dataset/wataiData/csv/CICIoT2023/part-0000{i}-363d1ba3-8ab5-4f96-bc25-4d5862db7cb9-c000.csv\"\n",
        "    else:\n",
        "        filename = f\"/content/unb-cic-iot-dataset/wataiData/csv/CICIoT2023/part-000{i}-363d1ba3-8ab5-4f96-bc25-4d5862db7cb9-c000.csv\"\n",
        "\n",
        "    # Check if the file exists before attempting to read\n",
        "    if os.path.exists(filename):\n",
        "        df = pd.read_csv(filename)\n",
        "        dfs.append(df)\n",
        "        print(filename, 'exists')\n",
        "    else:\n",
        "        print(f\"File {filename} does not exist.\")\n",
        "\n",
        "# Concatenate all DataFrames into a single DataFrame\n",
        "if dfs:  # Check if the list is not empty\n",
        "    df_combined = pd.concat(dfs, ignore_index=True)\n",
        "    print(\"Combined DataFrame created.\")\n",
        "else:\n",
        "    df_combined = pd.DataFrame()  # Create an empty DataFrame if no files were read\n",
        "    print(\"No DataFrames to combine.\")\n",
        "\n",
        "# Display the first few rows of the combined DataFrame to verify\n",
        "print(df_combined.head())\n",
        "\n",
        "# Display the feature names (column names)\n",
        "print(\"Feature names:\", df_combined.columns.tolist())\n"
      ],
      "metadata": {
        "colab": {
          "base_uri": "https://localhost:8080/"
        },
        "id": "6dIzH_F-7h4T",
        "outputId": "6a0212a8-03c1-47bd-cc20-4d6f12a4883c"
      },
      "execution_count": null,
      "outputs": [
        {
          "output_type": "stream",
          "name": "stdout",
          "text": [
            "/content/unb-cic-iot-dataset/wataiData/csv/CICIoT2023/part-00000-363d1ba3-8ab5-4f96-bc25-4d5862db7cb9-c000.csv exists\n",
            "/content/unb-cic-iot-dataset/wataiData/csv/CICIoT2023/part-00001-363d1ba3-8ab5-4f96-bc25-4d5862db7cb9-c000.csv exists\n",
            "/content/unb-cic-iot-dataset/wataiData/csv/CICIoT2023/part-00002-363d1ba3-8ab5-4f96-bc25-4d5862db7cb9-c000.csv exists\n",
            "Combined DataFrame created.\n",
            "   flow_duration  Header_Length  Protocol Type  Duration         Rate  \\\n",
            "0       0.000000          54.00           6.00     64.00     0.329807   \n",
            "1       0.000000          57.04           6.33     64.00     4.290556   \n",
            "2       0.000000           0.00           1.00     64.00    33.396799   \n",
            "3       0.328175       76175.00          17.00     64.00  4642.133010   \n",
            "4       0.117320         101.73           6.11     65.91     6.202211   \n",
            "\n",
            "         Srate  Drate  fin_flag_number  syn_flag_number  rst_flag_number  ...  \\\n",
            "0     0.329807    0.0              1.0              0.0              1.0  ...   \n",
            "1     4.290556    0.0              0.0              0.0              0.0  ...   \n",
            "2    33.396799    0.0              0.0              0.0              0.0  ...   \n",
            "3  4642.133010    0.0              0.0              0.0              0.0  ...   \n",
            "4     6.202211    0.0              0.0              1.0              0.0  ...   \n",
            "\n",
            "         Std  Tot size           IAT  Number   Magnitue     Radius  \\\n",
            "0   0.000000     54.00  8.334383e+07     9.5  10.392305   0.000000   \n",
            "1   2.822973     57.04  8.292607e+07     9.5  10.464666   4.010353   \n",
            "2   0.000000     42.00  8.312799e+07     9.5   9.165151   0.000000   \n",
            "3   0.000000     50.00  8.301570e+07     9.5  10.000000   0.000000   \n",
            "4  23.113111     57.88  8.297300e+07     9.5  11.346876  32.716243   \n",
            "\n",
            "    Covariance  Variance  Weight             label  \n",
            "0     0.000000      0.00  141.55  DDoS-RSTFINFlood  \n",
            "1   160.987842      0.05  141.55     DoS-TCP_Flood  \n",
            "2     0.000000      0.00  141.55   DDoS-ICMP_Flood  \n",
            "3     0.000000      0.00  141.55     DoS-UDP_Flood  \n",
            "4  3016.808286      0.19  141.55     DoS-SYN_Flood  \n",
            "\n",
            "[5 rows x 47 columns]\n",
            "Feature names: ['flow_duration', 'Header_Length', 'Protocol Type', 'Duration', 'Rate', 'Srate', 'Drate', 'fin_flag_number', 'syn_flag_number', 'rst_flag_number', 'psh_flag_number', 'ack_flag_number', 'ece_flag_number', 'cwr_flag_number', 'ack_count', 'syn_count', 'fin_count', 'urg_count', 'rst_count', 'HTTP', 'HTTPS', 'DNS', 'Telnet', 'SMTP', 'SSH', 'IRC', 'TCP', 'UDP', 'DHCP', 'ARP', 'ICMP', 'IPv', 'LLC', 'Tot sum', 'Min', 'Max', 'AVG', 'Std', 'Tot size', 'IAT', 'Number', 'Magnitue', 'Radius', 'Covariance', 'Variance', 'Weight', 'label']\n"
          ]
        }
      ]
    },
    {
      "cell_type": "code",
      "source": [
        "df_combined.info()"
      ],
      "metadata": {
        "colab": {
          "base_uri": "https://localhost:8080/"
        },
        "id": "CqIeQNL08b0T",
        "outputId": "2989bdcd-cd3a-42d4-aa9d-026597ab46d7"
      },
      "execution_count": null,
      "outputs": [
        {
          "output_type": "stream",
          "name": "stdout",
          "text": [
            "<class 'pandas.core.frame.DataFrame'>\n",
            "RangeIndex: 732750 entries, 0 to 732749\n",
            "Data columns (total 47 columns):\n",
            " #   Column           Non-Null Count   Dtype  \n",
            "---  ------           --------------   -----  \n",
            " 0   flow_duration    732750 non-null  float64\n",
            " 1   Header_Length    732750 non-null  float64\n",
            " 2   Protocol Type    732750 non-null  float64\n",
            " 3   Duration         732750 non-null  float64\n",
            " 4   Rate             732750 non-null  float64\n",
            " 5   Srate            732750 non-null  float64\n",
            " 6   Drate            732750 non-null  float64\n",
            " 7   fin_flag_number  732750 non-null  float64\n",
            " 8   syn_flag_number  732750 non-null  float64\n",
            " 9   rst_flag_number  732750 non-null  float64\n",
            " 10  psh_flag_number  732750 non-null  float64\n",
            " 11  ack_flag_number  732750 non-null  float64\n",
            " 12  ece_flag_number  732750 non-null  float64\n",
            " 13  cwr_flag_number  732750 non-null  float64\n",
            " 14  ack_count        732750 non-null  float64\n",
            " 15  syn_count        732750 non-null  float64\n",
            " 16  fin_count        732750 non-null  float64\n",
            " 17  urg_count        732750 non-null  float64\n",
            " 18  rst_count        732750 non-null  float64\n",
            " 19  HTTP             732750 non-null  float64\n",
            " 20  HTTPS            732750 non-null  float64\n",
            " 21  DNS              732750 non-null  float64\n",
            " 22  Telnet           732750 non-null  float64\n",
            " 23  SMTP             732750 non-null  float64\n",
            " 24  SSH              732750 non-null  float64\n",
            " 25  IRC              732750 non-null  float64\n",
            " 26  TCP              732750 non-null  float64\n",
            " 27  UDP              732750 non-null  float64\n",
            " 28  DHCP             732750 non-null  float64\n",
            " 29  ARP              732750 non-null  float64\n",
            " 30  ICMP             732750 non-null  float64\n",
            " 31  IPv              732750 non-null  float64\n",
            " 32  LLC              732750 non-null  float64\n",
            " 33  Tot sum          732750 non-null  float64\n",
            " 34  Min              732750 non-null  float64\n",
            " 35  Max              732750 non-null  float64\n",
            " 36  AVG              732750 non-null  float64\n",
            " 37  Std              732750 non-null  float64\n",
            " 38  Tot size         732750 non-null  float64\n",
            " 39  IAT              732750 non-null  float64\n",
            " 40  Number           732750 non-null  float64\n",
            " 41  Magnitue         732750 non-null  float64\n",
            " 42  Radius           732750 non-null  float64\n",
            " 43  Covariance       732750 non-null  float64\n",
            " 44  Variance         732750 non-null  float64\n",
            " 45  Weight           732750 non-null  float64\n",
            " 46  label            732750 non-null  object \n",
            "dtypes: float64(46), object(1)\n",
            "memory usage: 262.8+ MB\n"
          ]
        }
      ]
    },
    {
      "cell_type": "code",
      "source": [
        "unique_labels = df_combined['label'].unique()\n",
        "all_labels = unique_labels\n",
        "all_labels"
      ],
      "metadata": {
        "colab": {
          "base_uri": "https://localhost:8080/"
        },
        "id": "YOQHSTPE870D",
        "outputId": "50d33908-5c50-4477-8376-6e7be05b0a8a"
      },
      "execution_count": null,
      "outputs": [
        {
          "output_type": "execute_result",
          "data": {
            "text/plain": [
              "array(['DDoS-RSTFINFlood', 'DoS-TCP_Flood', 'DDoS-ICMP_Flood',\n",
              "       'DoS-UDP_Flood', 'DoS-SYN_Flood', 'Mirai-greeth_flood',\n",
              "       'DDoS-SynonymousIP_Flood', 'Mirai-udpplain', 'DDoS-SYN_Flood',\n",
              "       'DDoS-PSHACK_Flood', 'DDoS-TCP_Flood', 'DDoS-UDP_Flood',\n",
              "       'BenignTraffic', 'MITM-ArpSpoofing', 'DDoS-ACK_Fragmentation',\n",
              "       'Mirai-greip_flood', 'DoS-HTTP_Flood', 'DDoS-ICMP_Fragmentation',\n",
              "       'Recon-PortScan', 'DNS_Spoofing', 'DDoS-UDP_Fragmentation',\n",
              "       'Recon-OSScan', 'XSS', 'DDoS-HTTP_Flood', 'Recon-HostDiscovery',\n",
              "       'CommandInjection', 'VulnerabilityScan', 'DDoS-SlowLoris',\n",
              "       'Backdoor_Malware', 'BrowserHijacking', 'DictionaryBruteForce',\n",
              "       'SqlInjection', 'Recon-PingSweep', 'Uploading_Attack'],\n",
              "      dtype=object)"
            ]
          },
          "metadata": {},
          "execution_count": 12
        }
      ]
    },
    {
      "cell_type": "code",
      "source": [
        "# Define the list of labels to filter\n",
        "labels_to_filter = [\n",
        "    'DDoS-RSTFINFlood', 'DoS-TCP_Flood', 'DDoS-ICMP_Flood',\n",
        "    'DoS-UDP_Flood', 'DoS-SYN_Flood', 'Mirai-greeth_flood',\n",
        "    'DDoS-SynonymousIP_Flood', 'Mirai-udpplain', 'DDoS-SYN_Flood',\n",
        "    'DDoS-PSHACK_Flood', 'DDoS-TCP_Flood', 'DDoS-UDP_Flood',\n",
        "    'BenignTraffic', 'DDoS-ACK_Fragmentation',\n",
        "    'Mirai-greip_flood', 'DoS-HTTP_Flood', 'DDoS-ICMP_Fragmentation',\n",
        "    'DDoS-UDP_Fragmentation', 'DDoS-HTTP_Flood', 'DDoS-SlowLoris',\n",
        "    'BenignTraffic'\n",
        "]\n",
        "\n",
        "# Filter the DataFrame\n",
        "if 'label' in df_combined.columns:\n",
        "    dos_df = df_combined[df_combined['label'].isin(labels_to_filter)]\n",
        "    print(f\"Filtered DataFrame created with {len(dos_df)} records.\")\n",
        "else:\n",
        "    dos_df = pd.DataFrame()  # Create an empty DataFrame if the 'label' column is missing\n",
        "    print(\"Column 'label' does not exist in the combined DataFrame.\")\n",
        "\n",
        "# Display the first few rows of the filtered DataFrame\n",
        "print(dos_df.head())"
      ],
      "metadata": {
        "colab": {
          "base_uri": "https://localhost:8080/"
        },
        "id": "QpGsTwyj_SRg",
        "outputId": "dabc42da-f0d8-4e15-cf30-98ad0e516f00"
      },
      "execution_count": null,
      "outputs": [
        {
          "output_type": "stream",
          "name": "stdout",
          "text": [
            "Filtered DataFrame created with 718875 records.\n",
            "   flow_duration  Header_Length  Protocol Type  Duration         Rate  \\\n",
            "0       0.000000          54.00           6.00     64.00     0.329807   \n",
            "1       0.000000          57.04           6.33     64.00     4.290556   \n",
            "2       0.000000           0.00           1.00     64.00    33.396799   \n",
            "3       0.328175       76175.00          17.00     64.00  4642.133010   \n",
            "4       0.117320         101.73           6.11     65.91     6.202211   \n",
            "\n",
            "         Srate  Drate  fin_flag_number  syn_flag_number  rst_flag_number  ...  \\\n",
            "0     0.329807    0.0              1.0              0.0              1.0  ...   \n",
            "1     4.290556    0.0              0.0              0.0              0.0  ...   \n",
            "2    33.396799    0.0              0.0              0.0              0.0  ...   \n",
            "3  4642.133010    0.0              0.0              0.0              0.0  ...   \n",
            "4     6.202211    0.0              0.0              1.0              0.0  ...   \n",
            "\n",
            "         Std  Tot size           IAT  Number   Magnitue     Radius  \\\n",
            "0   0.000000     54.00  8.334383e+07     9.5  10.392305   0.000000   \n",
            "1   2.822973     57.04  8.292607e+07     9.5  10.464666   4.010353   \n",
            "2   0.000000     42.00  8.312799e+07     9.5   9.165151   0.000000   \n",
            "3   0.000000     50.00  8.301570e+07     9.5  10.000000   0.000000   \n",
            "4  23.113111     57.88  8.297300e+07     9.5  11.346876  32.716243   \n",
            "\n",
            "    Covariance  Variance  Weight             label  \n",
            "0     0.000000      0.00  141.55  DDoS-RSTFINFlood  \n",
            "1   160.987842      0.05  141.55     DoS-TCP_Flood  \n",
            "2     0.000000      0.00  141.55   DDoS-ICMP_Flood  \n",
            "3     0.000000      0.00  141.55     DoS-UDP_Flood  \n",
            "4  3016.808286      0.19  141.55     DoS-SYN_Flood  \n",
            "\n",
            "[5 rows x 47 columns]\n"
          ]
        }
      ]
    },
    {
      "cell_type": "code",
      "source": [
        "label_counts = dos_df['label'].value_counts()\n",
        "print(\"Label counts:\")\n",
        "for label, count in label_counts.items():\n",
        "    print(f\"{label}: {count}\")"
      ],
      "metadata": {
        "colab": {
          "base_uri": "https://localhost:8080/"
        },
        "id": "VR0x0zMGATQ6",
        "outputId": "870469f2-dc30-445a-f02f-64859e8313aa"
      },
      "execution_count": null,
      "outputs": [
        {
          "output_type": "stream",
          "name": "stdout",
          "text": [
            "Label counts:\n",
            "DDoS-ICMP_Flood: 112423\n",
            "DDoS-UDP_Flood: 84712\n",
            "DDoS-TCP_Flood: 70630\n",
            "DDoS-PSHACK_Flood: 64473\n",
            "DDoS-SYN_Flood: 64137\n",
            "DDoS-RSTFINFlood: 63524\n",
            "DDoS-SynonymousIP_Flood: 56428\n",
            "DoS-UDP_Flood: 52059\n",
            "DoS-TCP_Flood: 41894\n",
            "DoS-SYN_Flood: 31595\n",
            "BenignTraffic: 17187\n",
            "Mirai-greeth_flood: 15447\n",
            "Mirai-udpplain: 14213\n",
            "Mirai-greip_flood: 11873\n",
            "DDoS-ICMP_Fragmentation: 7194\n",
            "DDoS-UDP_Fragmentation: 4568\n",
            "DDoS-ACK_Fragmentation: 4524\n",
            "DoS-HTTP_Flood: 1215\n",
            "DDoS-HTTP_Flood: 442\n",
            "DDoS-SlowLoris: 337\n"
          ]
        }
      ]
    },
    {
      "cell_type": "code",
      "source": [
        "# Ensure 'dos_df' is defined and contains the filtered data\n",
        "\n",
        "if 'label' in dos_df.columns:\n",
        "    # Count unique labels\n",
        "    label_counts = dos_df['label'].value_counts()\n",
        "\n",
        "    # Calculate total number of records\n",
        "    total_count = len(dos_df)\n",
        "\n",
        "    # Print label counts and percentages\n",
        "    print(\"Label counts and percentages:\")\n",
        "    for label, count in label_counts.items():\n",
        "        percentage = (count / total_count) * 100\n",
        "        print(f\"{label}: {count}, {percentage:.2f}%\")\n",
        "else:\n",
        "    print(\"Column 'label' does not exist in the DataFrame.\")\n"
      ],
      "metadata": {
        "colab": {
          "base_uri": "https://localhost:8080/"
        },
        "id": "-1vg0GB7E_hF",
        "outputId": "75a768ea-a449-48df-f645-0961e4a10de5"
      },
      "execution_count": null,
      "outputs": [
        {
          "output_type": "stream",
          "name": "stdout",
          "text": [
            "Label counts and percentages:\n",
            "DDoS-ICMP_Flood: 112423, 15.64%\n",
            "DDoS-UDP_Flood: 84712, 11.78%\n",
            "DDoS-TCP_Flood: 70630, 9.83%\n",
            "DDoS-PSHACK_Flood: 64473, 8.97%\n",
            "DDoS-SYN_Flood: 64137, 8.92%\n",
            "DDoS-RSTFINFlood: 63524, 8.84%\n",
            "DDoS-SynonymousIP_Flood: 56428, 7.85%\n",
            "DoS-UDP_Flood: 52059, 7.24%\n",
            "DoS-TCP_Flood: 41894, 5.83%\n",
            "DoS-SYN_Flood: 31595, 4.40%\n",
            "BenignTraffic: 17187, 2.39%\n",
            "Mirai-greeth_flood: 15447, 2.15%\n",
            "Mirai-udpplain: 14213, 1.98%\n",
            "Mirai-greip_flood: 11873, 1.65%\n",
            "DDoS-ICMP_Fragmentation: 7194, 1.00%\n",
            "DDoS-UDP_Fragmentation: 4568, 0.64%\n",
            "DDoS-ACK_Fragmentation: 4524, 0.63%\n",
            "DoS-HTTP_Flood: 1215, 0.17%\n",
            "DDoS-HTTP_Flood: 442, 0.06%\n",
            "DDoS-SlowLoris: 337, 0.05%\n"
          ]
        }
      ]
    },
    {
      "cell_type": "code",
      "source": [
        "import matplotlib.pyplot as plt\n",
        "\n",
        "# Ensure 'dos_df' is defined and contains the filtered data\n",
        "\n",
        "if 'label' in dos_df.columns:\n",
        "    # Count unique labels\n",
        "    label_counts = dos_df['label'].value_counts()\n",
        "\n",
        "    # Plot the bar chart\n",
        "    plt.figure(figsize=(12, 8))\n",
        "    label_counts.plot(kind='bar', color='skyblue')\n",
        "\n",
        "    # Add titles and labels\n",
        "    plt.title('Label Counts')\n",
        "    plt.xlabel('Labels')\n",
        "    plt.ylabel('Counts')\n",
        "\n",
        "    # Rotate x-axis labels for better readability if needed\n",
        "    plt.xticks(rotation=45, ha='right')\n",
        "\n",
        "    # Display the plot\n",
        "    plt.show()\n",
        "else:\n",
        "    print(\"Column 'label' does not exist in the DataFrame.\")\n"
      ],
      "metadata": {
        "colab": {
          "base_uri": "https://localhost:8080/",
          "height": 691
        },
        "id": "6JhsGc3zAgTc",
        "outputId": "e88b3f6b-e92d-42ec-fb39-5c0e2a93fa9d"
      },
      "execution_count": null,
      "outputs": [
        {
          "output_type": "display_data",
          "data": {
            "text/plain": [
              "<Figure size 1200x800 with 1 Axes>"
            ],
            "image/png": "[encoded data removed]"
          },
          "metadata": {}
        }
      ]
    },
    {
      "cell_type": "code",
      "source": [
        "import pandas as pd\n",
        "\n",
        "# Ensure 'dos_df' is defined and contains the filtered data\n",
        "\n",
        "if 'label' in dos_df.columns:\n",
        "    # Use .loc[] to avoid SettingWithCopyWarning\n",
        "    dos_df.rename(columns={'label': 'attack'}, inplace=True)\n",
        "\n",
        "    # Copy 'attack' values to 'xlabel'\n",
        "    dos_df.loc[:, 'xlabel'] = dos_df['attack']\n",
        "\n",
        "    # Set all values in the 'label' column to 0\n",
        "    dos_df.loc[:, 'label'] = 0\n",
        "\n",
        "    # Display the first few rows and info of the updated DataFrame\n",
        "    print(dos_df.head())\n",
        "    print(dos_df.info())\n",
        "else:\n",
        "    print(\"Column 'label' does not exist in the DataFrame.\")\n"
      ],
      "metadata": {
        "colab": {
          "base_uri": "https://localhost:8080/"
        },
        "id": "JoODGYExHG-a",
        "outputId": "8c2806f4-b00d-42de-a8b9-d4ad8d560afb"
      },
      "execution_count": null,
      "outputs": [
        {
          "output_type": "stream",
          "name": "stderr",
          "text": [
            "<ipython-input-17-edb89fd82865>:7: SettingWithCopyWarning: \n",
            "A value is trying to be set on a copy of a slice from a DataFrame\n",
            "\n",
            "See the caveats in the documentation: https://pandas.pydata.org/pandas-docs/stable/user_guide/indexing.html#returning-a-view-versus-a-copy\n",
            "  dos_df.rename(columns={'label': 'attack'}, inplace=True)\n",
            "<ipython-input-17-edb89fd82865>:10: SettingWithCopyWarning: \n",
            "A value is trying to be set on a copy of a slice from a DataFrame.\n",
            "Try using .loc[row_indexer,col_indexer] = value instead\n",
            "\n",
            "See the caveats in the documentation: https://pandas.pydata.org/pandas-docs/stable/user_guide/indexing.html#returning-a-view-versus-a-copy\n",
            "  dos_df.loc[:, 'xlabel'] = dos_df['attack']\n",
            "<ipython-input-17-edb89fd82865>:13: SettingWithCopyWarning: \n",
            "A value is trying to be set on a copy of a slice from a DataFrame.\n",
            "Try using .loc[row_indexer,col_indexer] = value instead\n",
            "\n",
            "See the caveats in the documentation: https://pandas.pydata.org/pandas-docs/stable/user_guide/indexing.html#returning-a-view-versus-a-copy\n",
            "  dos_df.loc[:, 'label'] = 0\n"
          ]
        },
        {
          "output_type": "stream",
          "name": "stdout",
          "text": [
            "   flow_duration  Header_Length  Protocol Type  Duration         Rate  \\\n",
            "0       0.000000          54.00           6.00     64.00     0.329807   \n",
            "1       0.000000          57.04           6.33     64.00     4.290556   \n",
            "2       0.000000           0.00           1.00     64.00    33.396799   \n",
            "3       0.328175       76175.00          17.00     64.00  4642.133010   \n",
            "4       0.117320         101.73           6.11     65.91     6.202211   \n",
            "\n",
            "         Srate  Drate  fin_flag_number  syn_flag_number  rst_flag_number  ...  \\\n",
            "0     0.329807    0.0              1.0              0.0              1.0  ...   \n",
            "1     4.290556    0.0              0.0              0.0              0.0  ...   \n",
            "2    33.396799    0.0              0.0              0.0              0.0  ...   \n",
            "3  4642.133010    0.0              0.0              0.0              0.0  ...   \n",
            "4     6.202211    0.0              0.0              1.0              0.0  ...   \n",
            "\n",
            "            IAT  Number   Magnitue     Radius   Covariance  Variance  Weight  \\\n",
            "0  8.334383e+07     9.5  10.392305   0.000000     0.000000      0.00  141.55   \n",
            "1  8.292607e+07     9.5  10.464666   4.010353   160.987842      0.05  141.55   \n",
            "2  8.312799e+07     9.5   9.165151   0.000000     0.000000      0.00  141.55   \n",
            "3  8.301570e+07     9.5  10.000000   0.000000     0.000000      0.00  141.55   \n",
            "4  8.297300e+07     9.5  11.346876  32.716243  3016.808286      0.19  141.55   \n",
            "\n",
            "             attack            xlabel  label  \n",
            "0  DDoS-RSTFINFlood  DDoS-RSTFINFlood      0  \n",
            "1     DoS-TCP_Flood     DoS-TCP_Flood      0  \n",
            "2   DDoS-ICMP_Flood   DDoS-ICMP_Flood      0  \n",
            "3     DoS-UDP_Flood     DoS-UDP_Flood      0  \n",
            "4     DoS-SYN_Flood     DoS-SYN_Flood      0  \n",
            "\n",
            "[5 rows x 49 columns]\n",
            "<class 'pandas.core.frame.DataFrame'>\n",
            "Index: 718875 entries, 0 to 732749\n",
            "Data columns (total 49 columns):\n",
            " #   Column           Non-Null Count   Dtype  \n",
            "---  ------           --------------   -----  \n",
            " 0   flow_duration    718875 non-null  float64\n",
            " 1   Header_Length    718875 non-null  float64\n",
            " 2   Protocol Type    718875 non-null  float64\n",
            " 3   Duration         718875 non-null  float64\n",
            " 4   Rate             718875 non-null  float64\n",
            " 5   Srate            718875 non-null  float64\n",
            " 6   Drate            718875 non-null  float64\n",
            " 7   fin_flag_number  718875 non-null  float64\n",
            " 8   syn_flag_number  718875 non-null  float64\n",
            " 9   rst_flag_number  718875 non-null  float64\n",
            " 10  psh_flag_number  718875 non-null  float64\n",
            " 11  ack_flag_number  718875 non-null  float64\n",
            " 12  ece_flag_number  718875 non-null  float64\n",
            " 13  cwr_flag_number  718875 non-null  float64\n",
            " 14  ack_count        718875 non-null  float64\n",
            " 15  syn_count        718875 non-null  float64\n",
            " 16  fin_count        718875 non-null  float64\n",
            " 17  urg_count        718875 non-null  float64\n",
            " 18  rst_count        718875 non-null  float64\n",
            " 19  HTTP             718875 non-null  float64\n",
            " 20  HTTPS            718875 non-null  float64\n",
            " 21  DNS              718875 non-null  float64\n",
            " 22  Telnet           718875 non-null  float64\n",
            " 23  SMTP             718875 non-null  float64\n",
            " 24  SSH              718875 non-null  float64\n",
            " 25  IRC              718875 non-null  float64\n",
            " 26  TCP              718875 non-null  float64\n",
            " 27  UDP              718875 non-null  float64\n",
            " 28  DHCP             718875 non-null  float64\n",
            " 29  ARP              718875 non-null  float64\n",
            " 30  ICMP             718875 non-null  float64\n",
            " 31  IPv              718875 non-null  float64\n",
            " 32  LLC              718875 non-null  float64\n",
            " 33  Tot sum          718875 non-null  float64\n",
            " 34  Min              718875 non-null  float64\n",
            " 35  Max              718875 non-null  float64\n",
            " 36  AVG              718875 non-null  float64\n",
            " 37  Std              718875 non-null  float64\n",
            " 38  Tot size         718875 non-null  float64\n",
            " 39  IAT              718875 non-null  float64\n",
            " 40  Number           718875 non-null  float64\n",
            " 41  Magnitue         718875 non-null  float64\n",
            " 42  Radius           718875 non-null  float64\n",
            " 43  Covariance       718875 non-null  float64\n",
            " 44  Variance         718875 non-null  float64\n",
            " 45  Weight           718875 non-null  float64\n",
            " 46  attack           718875 non-null  object \n",
            " 47  xlabel           718875 non-null  object \n",
            " 48  label            718875 non-null  int64  \n",
            "dtypes: float64(46), int64(1), object(2)\n",
            "memory usage: 274.2+ MB\n",
            "None\n"
          ]
        }
      ]
    },
    {
      "cell_type": "code",
      "source": [
        "attack_counts = dos_df['attack'].value_counts()\n",
        "# Print the counts\n",
        "print(\"Attack counts:\")\n",
        "for attack, count in attack_counts.items():\n",
        "    print(f\"{attack}: {count}\")"
      ],
      "metadata": {
        "colab": {
          "base_uri": "https://localhost:8080/"
        },
        "id": "UwGExxPQIIso",
        "outputId": "d67011dd-9500-48c4-93b5-0f79a38cdcf8"
      },
      "execution_count": null,
      "outputs": [
        {
          "output_type": "stream",
          "name": "stdout",
          "text": [
            "Attack counts:\n",
            "DDoS-ICMP_Flood: 112423\n",
            "DDoS-UDP_Flood: 84712\n",
            "DDoS-TCP_Flood: 70630\n",
            "DDoS-PSHACK_Flood: 64473\n",
            "DDoS-SYN_Flood: 64137\n",
            "DDoS-RSTFINFlood: 63524\n",
            "DDoS-SynonymousIP_Flood: 56428\n",
            "DoS-UDP_Flood: 52059\n",
            "DoS-TCP_Flood: 41894\n",
            "DoS-SYN_Flood: 31595\n",
            "BenignTraffic: 17187\n",
            "Mirai-greeth_flood: 15447\n",
            "Mirai-udpplain: 14213\n",
            "Mirai-greip_flood: 11873\n",
            "DDoS-ICMP_Fragmentation: 7194\n",
            "DDoS-UDP_Fragmentation: 4568\n",
            "DDoS-ACK_Fragmentation: 4524\n",
            "DoS-HTTP_Flood: 1215\n",
            "DDoS-HTTP_Flood: 442\n",
            "DDoS-SlowLoris: 337\n"
          ]
        }
      ]
    },
    {
      "cell_type": "code",
      "source": [
        "dos_df.loc[dos_df['attack'] != 'BenignTraffic', 'label'] = 1\n",
        "\n",
        "attack_counts = dos_df['label'].value_counts()\n",
        "# Print the counts\n",
        "print(\"Attack counts:\")\n",
        "for attack, count in attack_counts.items():\n",
        "    print(f\"{attack}: {count}\")"
      ],
      "metadata": {
        "colab": {
          "base_uri": "https://localhost:8080/"
        },
        "id": "QKLaxQ-LIwOH",
        "outputId": "b46d1d63-9a3b-4e98-e09d-8adb3325212b"
      },
      "execution_count": null,
      "outputs": [
        {
          "output_type": "stream",
          "name": "stdout",
          "text": [
            "Attack counts:\n",
            "1: 701688\n",
            "0: 17187\n"
          ]
        }
      ]
    },
    {
      "cell_type": "code",
      "source": [
        "# Save the DataFrame to the specified CSV file\n",
        "imbal_dos_file = '/content/drive/MyDrive/Mphill/MyPapers/RL_DoS/imbal_dos.csv'\n",
        "dos_df.to_csv(imbal_dos_file, index=False)\n",
        "print(imbal_dos_file, 'saved')"
      ],
      "metadata": {
        "id": "KmunyulARYnx",
        "colab": {
          "base_uri": "https://localhost:8080/"
        },
        "outputId": "2a53f1d1-ff3e-41b6-bd65-f1f850c90480"
      },
      "execution_count": null,
      "outputs": [
        {
          "output_type": "stream",
          "name": "stdout",
          "text": [
            "/content/drive/MyDrive/Mphill/MyPapers/RL_DoS/imbal_dos.csv saved\n"
          ]
        }
      ]
    },
    {
      "cell_type": "code",
      "source": [
        "import pandas as pd\n",
        "# Load the dos dataset\n",
        "imbal_dos_file='/content/drive/MyDrive/Mphill/MyPapers/RL_DoS/imbal_dos.csv'\n",
        "dos_df = pd.read_csv(imbal_dos_file)\n",
        "dos_df.info()\n"
      ],
      "metadata": {
        "colab": {
          "base_uri": "https://localhost:8080/"
        },
        "id": "fn7jbuUMYiRQ",
        "outputId": "b32da2b4-0352-4828-d887-476d3ea3aefe"
      },
      "execution_count": 1,
      "outputs": [
        {
          "output_type": "stream",
          "name": "stdout",
          "text": [
            "<class 'pandas.core.frame.DataFrame'>\n",
            "RangeIndex: 718875 entries, 0 to 718874\n",
            "Data columns (total 49 columns):\n",
            " #   Column           Non-Null Count   Dtype  \n",
            "---  ------           --------------   -----  \n",
            " 0   flow_duration    718875 non-null  float64\n",
            " 1   Header_Length    718875 non-null  float64\n",
            " 2   Protocol Type    718875 non-null  float64\n",
            " 3   Duration         718875 non-null  float64\n",
            " 4   Rate             718875 non-null  float64\n",
            " 5   Srate            718875 non-null  float64\n",
            " 6   Drate            718875 non-null  float64\n",
            " 7   fin_flag_number  718875 non-null  float64\n",
            " 8   syn_flag_number  718875 non-null  float64\n",
            " 9   rst_flag_number  718875 non-null  float64\n",
            " 10  psh_flag_number  718875 non-null  float64\n",
            " 11  ack_flag_number  718875 non-null  float64\n",
            " 12  ece_flag_number  718875 non-null  float64\n",
            " 13  cwr_flag_number  718875 non-null  float64\n",
            " 14  ack_count        718875 non-null  float64\n",
            " 15  syn_count        718875 non-null  float64\n",
            " 16  fin_count        718875 non-null  float64\n",
            " 17  urg_count        718875 non-null  float64\n",
            " 18  rst_count        718875 non-null  float64\n",
            " 19  HTTP             718875 non-null  float64\n",
            " 20  HTTPS            718875 non-null  float64\n",
            " 21  DNS              718875 non-null  float64\n",
            " 22  Telnet           718875 non-null  float64\n",
            " 23  SMTP             718875 non-null  float64\n",
            " 24  SSH              718875 non-null  float64\n",
            " 25  IRC              718875 non-null  float64\n",
            " 26  TCP              718875 non-null  float64\n",
            " 27  UDP              718875 non-null  float64\n",
            " 28  DHCP             718875 non-null  float64\n",
            " 29  ARP              718875 non-null  float64\n",
            " 30  ICMP             718875 non-null  float64\n",
            " 31  IPv              718875 non-null  float64\n",
            " 32  LLC              718875 non-null  float64\n",
            " 33  Tot sum          718875 non-null  float64\n",
            " 34  Min              718875 non-null  float64\n",
            " 35  Max              718875 non-null  float64\n",
            " 36  AVG              718875 non-null  float64\n",
            " 37  Std              718875 non-null  float64\n",
            " 38  Tot size         718875 non-null  float64\n",
            " 39  IAT              718875 non-null  float64\n",
            " 40  Number           718875 non-null  float64\n",
            " 41  Magnitue         718875 non-null  float64\n",
            " 42  Radius           718875 non-null  float64\n",
            " 43  Covariance       718875 non-null  float64\n",
            " 44  Variance         718875 non-null  float64\n",
            " 45  Weight           718875 non-null  float64\n",
            " 46  attack           718875 non-null  object \n",
            " 47  xlabel           718875 non-null  object \n",
            " 48  label            718875 non-null  int64  \n",
            "dtypes: float64(46), int64(1), object(2)\n",
            "memory usage: 268.7+ MB\n"
          ]
        }
      ]
    },
    {
      "cell_type": "markdown",
      "source": [
        "### Balanced Replay Buffer undersampling"
      ],
      "metadata": {
        "id": "oZ5eHUb7RaFc"
      }
    },
    {
      "cell_type": "code",
      "source": [
        "import pandas as pd\n",
        "\n",
        "# Ensure 'dos_df' is defined and contains the filtered data\n",
        "\n",
        "# Step 1: Split the DataFrame into benign and attack subsets\n",
        "benign_df = dos_df[dos_df['attack'] == 'BenignTraffic']\n",
        "attack_df = dos_df[dos_df['attack'] != 'BenignTraffic']\n",
        "\n",
        "# Step 2: Calculate the proportion of each attack type in the original attack dataset\n",
        "attack_counts = attack_df['attack'].value_counts()\n",
        "total_attack_count = attack_counts.sum()\n",
        "benign_count = len(benign_df)\n",
        "\n",
        "# Calculate the proportion of each attack class\n",
        "attack_proportions = attack_counts / total_attack_count\n",
        "\n",
        "# Step 3: Sample each attack class proportionally\n",
        "sampled_attack_dfs = []\n",
        "for attack_type, proportion in attack_proportions.items():\n",
        "    # Calculate the number of samples to draw for this attack type\n",
        "    num_samples = int(proportion * benign_count)\n",
        "\n",
        "    # Sample the attack data\n",
        "    attack_type_df = attack_df[attack_df['attack'] == attack_type].sample(n=num_samples, random_state=42)\n",
        "    sampled_attack_dfs.append(attack_type_df)\n",
        "\n",
        "# Combine all sampled attack classes into one DataFrame\n",
        "proportional_attack_df = pd.concat(sampled_attack_dfs, ignore_index=True)\n",
        "\n",
        "# Step 4: Combine the benign data and the proportionally balanced attack data\n",
        "balanced_replay_dos_df = pd.concat([benign_df, proportional_attack_df], ignore_index=True)\n",
        "\n",
        "# Optional: Shuffle the DataFrame to mix benign and attack recordns\n",
        "balanced_replay_dos_df = balanced_replay_dos_df.sample(frac=1, random_state=42).reset_index(drop=True)\n",
        "\n",
        "# Display the distribution in the new balanced DataFrame\n",
        "print(\"Balanced Data Distribution with Proportional Representation:\")\n",
        "print(balanced_replay_dos_df['attack'].value_counts())\n",
        "print(balanced_replay_dos_df['label'].value_counts())"
      ],
      "metadata": {
        "colab": {
          "base_uri": "https://localhost:8080/"
        },
        "id": "xCMGPXCoQRP5",
        "outputId": "70e27646-a8dc-4f5f-eb3a-7a408d1694db"
      },
      "execution_count": null,
      "outputs": [
        {
          "output_type": "stream",
          "name": "stdout",
          "text": [
            "Balanced Data Distribution with Proportional Representation:\n",
            "attack\n",
            "BenignTraffic              17187\n",
            "DDoS-ICMP_Flood             2753\n",
            "DDoS-UDP_Flood              2074\n",
            "DDoS-TCP_Flood              1729\n",
            "DDoS-PSHACK_Flood           1579\n",
            "DDoS-SYN_Flood              1570\n",
            "DDoS-RSTFINFlood            1555\n",
            "DDoS-SynonymousIP_Flood     1382\n",
            "DoS-UDP_Flood               1275\n",
            "DoS-TCP_Flood               1026\n",
            "DoS-SYN_Flood                773\n",
            "Mirai-greeth_flood           378\n",
            "Mirai-udpplain               348\n",
            "Mirai-greip_flood            290\n",
            "DDoS-ICMP_Fragmentation      176\n",
            "DDoS-UDP_Fragmentation       111\n",
            "DDoS-ACK_Fragmentation       110\n",
            "DoS-HTTP_Flood                29\n",
            "DDoS-HTTP_Flood               10\n",
            "DDoS-SlowLoris                 8\n",
            "Name: count, dtype: int64\n",
            "label\n",
            "0    17187\n",
            "1    17176\n",
            "Name: count, dtype: int64\n"
          ]
        }
      ]
    },
    {
      "cell_type": "code",
      "source": [
        "bal_replay_file='/content/drive/MyDrive/Mphill/MyPapers/RL_DoS/bal_replay_dos.csv'\n",
        "balanced_replay_dos_df.to_csv(bal_replay_file, index=False)\n",
        "print (bal_replay_file, 'saved')"
      ],
      "metadata": {
        "colab": {
          "base_uri": "https://localhost:8080/"
        },
        "id": "hAAVvrg8X-0Q",
        "outputId": "c999f95f-68cb-482f-8d2d-25eaaf2cde28"
      },
      "execution_count": null,
      "outputs": [
        {
          "output_type": "stream",
          "name": "stdout",
          "text": [
            "/content/drive/MyDrive/Mphill/MyPapers/RL_DoS/bal_replay_dos.csv saved\n"
          ]
        }
      ]
    },
    {
      "cell_type": "markdown",
      "source": [
        "## Cluster-Based Undersampling"
      ],
      "metadata": {
        "id": "WQkxie4TZaz1"
      }
    },
    {
      "cell_type": "code",
      "source": [
        "import pandas as pd\n",
        "from sklearn.cluster import KMeans\n",
        "from sklearn.preprocessing import LabelEncoder\n",
        "from sklearn.feature_extraction.text import TfidfVectorizer\n",
        "\n",
        "# Ensure 'dos_df' is defined and contains the filtered data\n",
        "\n",
        "# Step 1: Split the DataFrame into benign and attack subsets\n",
        "benign_df = dos_df[dos_df['attack'] == 'BenignTraffic']\n",
        "attack_df = dos_df[dos_df['attack'] != 'BenignTraffic']\n",
        "\n",
        "# Step 2: Encode attack types and use TF-IDF for clustering (assuming textual description)\n",
        "# For more complex data, use appropriate feature extraction\n",
        "label_encoder = LabelEncoder()\n",
        "attack_df['attack_encoded'] = label_encoder.fit_transform(attack_df['attack'])\n",
        "\n",
        "# Using TF-IDF vectorizer to create feature vectors for clustering\n",
        "vectorizer = TfidfVectorizer()\n",
        "X = vectorizer.fit_transform(attack_df['attack'])\n",
        "num_clusters = min(10, len(attack_df['attack'].unique()))  # Adjust cluster count as needed\n",
        "\n",
        "kmeans = KMeans(n_clusters=num_clusters, random_state=42)\n",
        "attack_df['cluster'] = kmeans.fit_predict(X)\n",
        "\n",
        "# Step 3: Undersample within each cluster\n",
        "benign_count = len(benign_df)\n",
        "cluster_sampled_dfs = []\n",
        "\n",
        "for cluster in attack_df['cluster'].unique():\n",
        "    cluster_df = attack_df[attack_df['cluster'] == cluster]\n",
        "    cluster_size = len(cluster_df)\n",
        "\n",
        "    # Determine the number of samples to draw from this cluster\n",
        "    num_samples = min(benign_count, cluster_size)\n",
        "\n",
        "    # Sample the cluster data\n",
        "    sampled_cluster_df = cluster_df.sample(n=num_samples, random_state=42)\n",
        "    cluster_sampled_dfs.append(sampled_cluster_df)\n",
        "\n",
        "# Combine all sampled clusters into one DataFrame\n",
        "attack_df_clusters = pd.concat(cluster_sampled_dfs, ignore_index=True)\n",
        "\n",
        "# Step 4: Combine the benign data and the balanced attack data\n",
        "balanced_cluster_dos_df = pd.concat([benign_df, attack_df_clusters], ignore_index=True)\n",
        "\n",
        "# Step 5: Ensure the labels are balanced\n",
        "# Assuming 'label' column is used for binary classification\n",
        "label_counts = balanced_cluster_dos_df['label'].value_counts()\n",
        "min_label_count = label_counts.min()\n",
        "\n",
        "cluster_df_list = []\n",
        "for label in balanced_cluster_dos_df['label'].unique():\n",
        "    label_df = balanced_cluster_dos_df[balanced_cluster_dos_df['label'] == label]\n",
        "    sampled_label_df = label_df.sample(n=min_label_count, random_state=42)\n",
        "    cluster_df_list.append(sampled_label_df)\n",
        "\n",
        "clustered_df = pd.concat(cluster_df_list, ignore_index=True)\n",
        "\n",
        "# Optional: Shuffle the DataFrame to mix benign and attack records\n",
        "balanced_cluster_dos_df = clustered_df.sample(frac=1, random_state=42).reset_index(drop=True)\n",
        "\n",
        "# Display the distribution in the new balanced DataFrame\n",
        "print(\"Balanced Data Distribution with Equal Label Counts:\")\n",
        "print(balanced_cluster_dos_df['attack'].value_counts())\n",
        "print(balanced_cluster_dos_df['label'].value_counts())\n"
      ],
      "metadata": {
        "colab": {
          "base_uri": "https://localhost:8080/"
        },
        "id": "7kRTnIP0cDO-",
        "outputId": "472903a9-a109-42f0-e21c-84af0357a718"
      },
      "execution_count": null,
      "outputs": [
        {
          "output_type": "stream",
          "name": "stderr",
          "text": [
            "<ipython-input-5-c2c3b9b63271>:15: SettingWithCopyWarning: \n",
            "A value is trying to be set on a copy of a slice from a DataFrame.\n",
            "Try using .loc[row_indexer,col_indexer] = value instead\n",
            "\n",
            "See the caveats in the documentation: https://pandas.pydata.org/pandas-docs/stable/user_guide/indexing.html#returning-a-view-versus-a-copy\n",
            "  attack_df['attack_encoded'] = label_encoder.fit_transform(attack_df['attack'])\n",
            "/usr/local/lib/python3.10/dist-packages/sklearn/cluster/_kmeans.py:1416: FutureWarning: The default value of `n_init` will change from 10 to 'auto' in 1.4. Set the value of `n_init` explicitly to suppress the warning\n",
            "  super()._check_params_vs_input(X, default_n_init=10)\n",
            "<ipython-input-5-c2c3b9b63271>:23: SettingWithCopyWarning: \n",
            "A value is trying to be set on a copy of a slice from a DataFrame.\n",
            "Try using .loc[row_indexer,col_indexer] = value instead\n",
            "\n",
            "See the caveats in the documentation: https://pandas.pydata.org/pandas-docs/stable/user_guide/indexing.html#returning-a-view-versus-a-copy\n",
            "  attack_df['cluster'] = kmeans.fit_predict(X)\n"
          ]
        },
        {
          "output_type": "stream",
          "name": "stdout",
          "text": [
            "Balanced Data Distribution with Equal Label Counts:\n",
            "attack\n",
            "BenignTraffic              17187\n",
            "DDoS-TCP_Flood              1772\n",
            "DDoS-RSTFINFlood            1730\n",
            "DDoS-SynonymousIP_Flood     1727\n",
            "DoS-UDP_Flood               1697\n",
            "DDoS-ICMP_Flood             1697\n",
            "DDoS-PSHACK_Flood           1680\n",
            "DoS-TCP_Flood               1678\n",
            "DDoS-UDP_Flood              1484\n",
            "DDoS-SYN_Flood              1188\n",
            "Mirai-greeth_flood           609\n",
            "DoS-SYN_Flood                568\n",
            "Mirai-udpplain               562\n",
            "Mirai-greip_flood            456\n",
            "DDoS-ICMP_Fragmentation      116\n",
            "DDoS-ACK_Fragmentation        78\n",
            "DDoS-UDP_Fragmentation        73\n",
            "DoS-HTTP_Flood                44\n",
            "DDoS-SlowLoris                14\n",
            "DDoS-HTTP_Flood               14\n",
            "Name: count, dtype: int64\n",
            "label\n",
            "1    17187\n",
            "0    17187\n",
            "Name: count, dtype: int64\n"
          ]
        }
      ]
    },
    {
      "cell_type": "code",
      "source": [
        "bal_cluster_file='/content/drive/MyDrive/Mphill/MyPapers/RL_DoS/bal_cluster_dos.csv'\n",
        "balanced_cluster_dos_df.to_csv(bal_cluster_file, index=False)\n",
        "print (bal_cluster_file, 'saved')"
      ],
      "metadata": {
        "colab": {
          "base_uri": "https://localhost:8080/"
        },
        "id": "6XOy14DpZT7g",
        "outputId": "c65888ee-4960-4aa1-be7c-6da8dfff93d2"
      },
      "execution_count": null,
      "outputs": [
        {
          "output_type": "stream",
          "name": "stdout",
          "text": [
            "/content/drive/MyDrive/Mphill/MyPapers/RL_DoS/bal_cluster_dos.csv saved\n"
          ]
        }
      ]
    },
    {
      "cell_type": "markdown",
      "source": [
        "reorganize the attack types in the dataset based on their real-world commonality.\n",
        "\n",
        "\n",
        "Define Weights Based on Commonality:\n",
        "- DDoS-SYN_Flood: Weight = 1.5\n",
        "- DDoS-UDP_Flood: Weight = 1.4\n",
        "- DDoS-ICMP_Flood: Weight = 1.3\n",
        "- DoS-UDP_Flood: Weight = 1.2\n",
        "- DoS-SYN_Flood: Weight = 1.1\n",
        "- Mirai-udpplain: Weight = 1.0\n",
        "- DDoS-PSHACK_Flood: Weight = 0.9\n",
        "- DDoS-TCP_Flood: Weight = 0.8\n",
        "- DDoS-RSTFINFlood: Weight = 0.7\n",
        "- DoS-TCP_Flood: Weight = 0.6\n",
        "- DDoS-SynonymousIP_Flood: Weight = 0.5\n",
        "- DDoS-ICMP_Fragmentation: Weight = 0.4\n",
        "- DDoS-UDP_Fragmentation: Weight = 0.4\n",
        "- DDoS-ACK_Fragmentation: Weight = 0.4\n",
        "- Mirai-greeth_flood: Weight = 0.3\n",
        "- Mirai-greip_flood: Weight = 0.3\n",
        "- DDoS-HTTP_Flood: Weight = 0.2\n",
        "- DoS-HTTP_Flood: Weight = 0.2\n",
        "- DDoS-SlowLoris: Weight = 0.1\n",
        "\n",
        "Distribute 17187 samples on above weight"
      ],
      "metadata": {
        "id": "VNvk61Xla0dz"
      }
    },
    {
      "cell_type": "code",
      "source": [
        "# Given weights for each attack type\n",
        "weights = {\n",
        "    'DDoS-SYN_Flood': 1.5,\n",
        "    'DDoS-UDP_Flood': 1.4,\n",
        "    'DDoS-ICMP_Flood': 1.3,\n",
        "    'DoS-UDP_Flood': 1.2,\n",
        "    'DoS-SYN_Flood': 1.1,\n",
        "    'Mirai-udpplain': 1.0,\n",
        "    'DDoS-PSHACK_Flood': 0.9,\n",
        "    'DDoS-TCP_Flood': 0.8,\n",
        "    'DDoS-RSTFINFlood': 0.7,\n",
        "    'DoS-TCP_Flood': 0.6,\n",
        "    'DDoS-SynonymousIP_Flood': 0.5,\n",
        "    'DDoS-ICMP_Fragmentation': 0.4,\n",
        "    'DDoS-UDP_Fragmentation': 0.4,\n",
        "    'DDoS-ACK_Fragmentation': 0.4,\n",
        "    'Mirai-greeth_flood': 0.3,\n",
        "    'Mirai-greip_flood': 0.3,\n",
        "    'DDoS-HTTP_Flood': 0.2,\n",
        "    'DoS-HTTP_Flood': 0.2,\n",
        "    'DDoS-SlowLoris': 0.1\n",
        "}\n",
        "\n",
        "# Total number of samples\n",
        "total_samples = 17187\n",
        "\n",
        "# Calculate the sum of weights\n",
        "total_weight = sum(weights.values())\n",
        "print(total_weight)\n",
        "# Calculate the number of samples for each attack type\n",
        "attack_samples = {} # Populate attack_samples using a loop\n",
        "for attack, weight in weights.items():\n",
        "    attack_samples[attack] = int((weight / total_weight) * total_samples)\n",
        "    print (attack, weight, attack_samples[attack])\n",
        "\n",
        "difference = total_samples - sum(attack_samples.values())\n",
        "print(sum(attack_samples.values()), total_samples, difference )\n",
        "\n",
        "# Adjust the total to match exactly 17187 by distributing the difference\n",
        "sorted_attacks = sorted(attack_samples, key=lambda x: weights[x], reverse=True)\n",
        "\n",
        "for i in range(difference):\n",
        "    attack_samples[sorted_attacks[i % len(sorted_attacks)]] += 1\n",
        "print(attack_samples)\n",
        "print(sum(attack_samples.values()))"
      ],
      "metadata": {
        "colab": {
          "base_uri": "https://localhost:8080/"
        },
        "id": "ZJp32-sQVYJ0",
        "outputId": "2abd3dee-380a-4206-cbee-0d1577a03aa8"
      },
      "execution_count": 9,
      "outputs": [
        {
          "output_type": "stream",
          "name": "stdout",
          "text": [
            "13.3\n",
            "DDoS-SYN_Flood 1.5 1938\n",
            "DDoS-UDP_Flood 1.4 1809\n",
            "DDoS-ICMP_Flood 1.3 1679\n",
            "DoS-UDP_Flood 1.2 1550\n",
            "DoS-SYN_Flood 1.1 1421\n",
            "Mirai-udpplain 1.0 1292\n",
            "DDoS-PSHACK_Flood 0.9 1163\n",
            "DDoS-TCP_Flood 0.8 1033\n",
            "DDoS-RSTFINFlood 0.7 904\n",
            "DoS-TCP_Flood 0.6 775\n",
            "DDoS-SynonymousIP_Flood 0.5 646\n",
            "DDoS-ICMP_Fragmentation 0.4 516\n",
            "DDoS-UDP_Fragmentation 0.4 516\n",
            "DDoS-ACK_Fragmentation 0.4 516\n",
            "Mirai-greeth_flood 0.3 387\n",
            "Mirai-greip_flood 0.3 387\n",
            "DDoS-HTTP_Flood 0.2 258\n",
            "DoS-HTTP_Flood 0.2 258\n",
            "DDoS-SlowLoris 0.1 129\n",
            "17177 17187 10\n",
            "{'DDoS-SYN_Flood': 1939, 'DDoS-UDP_Flood': 1810, 'DDoS-ICMP_Flood': 1680, 'DoS-UDP_Flood': 1551, 'DoS-SYN_Flood': 1422, 'Mirai-udpplain': 1293, 'DDoS-PSHACK_Flood': 1164, 'DDoS-TCP_Flood': 1034, 'DDoS-RSTFINFlood': 905, 'DoS-TCP_Flood': 776, 'DDoS-SynonymousIP_Flood': 646, 'DDoS-ICMP_Fragmentation': 516, 'DDoS-UDP_Fragmentation': 516, 'DDoS-ACK_Fragmentation': 516, 'Mirai-greeth_flood': 387, 'Mirai-greip_flood': 387, 'DDoS-HTTP_Flood': 258, 'DoS-HTTP_Flood': 258, 'DDoS-SlowLoris': 129}\n",
            "17187\n"
          ]
        }
      ]
    },
    {
      "cell_type": "code",
      "source": [
        "# Load the original dataset\n",
        "bal_dos_file = '/content/drive/MyDrive/Mphill/MyPapers/RL_DoS/bal_dos.csv'\n",
        "# dos_df = pd.read_csv('path_to_dos_df.csv')  # Replace with the actual path to your dos_df file\n",
        "\n",
        "# Initialize the list to store the balanced dataset\n",
        "balanced_samples = []\n",
        "\n",
        "# Sample 17,187 BenignTraffic samples\n",
        "benign_samples = dos_df[dos_df['attack'] == 'BenignTraffic'].sample(n=17187, random_state=42)\n",
        "balanced_samples.append(benign_samples)\n",
        "sum=0\n",
        "# Sample attack samples based on the attack_samples dictionary\n",
        "for attack, sample_size in attack_samples.items():\n",
        "    attack_sample = dos_df[dos_df['attack'] == attack].sample(n=sample_size, random_state=42)\n",
        "    balanced_samples.append(attack_sample)\n",
        "    sum=sum+sample_size\n",
        "    print(sample_size)\n",
        "\n",
        "print(sum)\n",
        "# Concatenate all the samples into a single dataframe\n",
        "bal_dos = pd.concat(balanced_samples, axis=0)\n",
        "\n",
        "# Display the information about the balanced dataframe\n",
        "bal_dos.info()\n",
        "\n",
        "# Save the balanced dataframe to a CSV file\n",
        "bal_dos.to_csv(bal_dos_file, index=False)\n",
        "print(bal_dos_file, 'saved')\n"
      ],
      "metadata": {
        "colab": {
          "base_uri": "https://localhost:8080/"
        },
        "id": "pYqWZzUXbBrI",
        "outputId": "5a2faf18-32f2-4d99-c70c-e9bb1268d46d"
      },
      "execution_count": 12,
      "outputs": [
        {
          "output_type": "stream",
          "name": "stdout",
          "text": [
            "1939\n",
            "1810\n",
            "1680\n",
            "1551\n",
            "1422\n",
            "1293\n",
            "1164\n",
            "1034\n",
            "905\n",
            "776\n",
            "646\n",
            "516\n",
            "516\n",
            "516\n",
            "387\n",
            "387\n",
            "258\n",
            "258\n",
            "129\n",
            "17187\n",
            "<class 'pandas.core.frame.DataFrame'>\n",
            "Index: 34374 entries, 635895 to 499830\n",
            "Data columns (total 49 columns):\n",
            " #   Column           Non-Null Count  Dtype  \n",
            "---  ------           --------------  -----  \n",
            " 0   flow_duration    34374 non-null  float64\n",
            " 1   Header_Length    34374 non-null  float64\n",
            " 2   Protocol Type    34374 non-null  float64\n",
            " 3   Duration         34374 non-null  float64\n",
            " 4   Rate             34374 non-null  float64\n",
            " 5   Srate            34374 non-null  float64\n",
            " 6   Drate            34374 non-null  float64\n",
            " 7   fin_flag_number  34374 non-null  float64\n",
            " 8   syn_flag_number  34374 non-null  float64\n",
            " 9   rst_flag_number  34374 non-null  float64\n",
            " 10  psh_flag_number  34374 non-null  float64\n",
            " 11  ack_flag_number  34374 non-null  float64\n",
            " 12  ece_flag_number  34374 non-null  float64\n",
            " 13  cwr_flag_number  34374 non-null  float64\n",
            " 14  ack_count        34374 non-null  float64\n",
            " 15  syn_count        34374 non-null  float64\n",
            " 16  fin_count        34374 non-null  float64\n",
            " 17  urg_count        34374 non-null  float64\n",
            " 18  rst_count        34374 non-null  float64\n",
            " 19  HTTP             34374 non-null  float64\n",
            " 20  HTTPS            34374 non-null  float64\n",
            " 21  DNS              34374 non-null  float64\n",
            " 22  Telnet           34374 non-null  float64\n",
            " 23  SMTP             34374 non-null  float64\n",
            " 24  SSH              34374 non-null  float64\n",
            " 25  IRC              34374 non-null  float64\n",
            " 26  TCP              34374 non-null  float64\n",
            " 27  UDP              34374 non-null  float64\n",
            " 28  DHCP             34374 non-null  float64\n",
            " 29  ARP              34374 non-null  float64\n",
            " 30  ICMP             34374 non-null  float64\n",
            " 31  IPv              34374 non-null  float64\n",
            " 32  LLC              34374 non-null  float64\n",
            " 33  Tot sum          34374 non-null  float64\n",
            " 34  Min              34374 non-null  float64\n",
            " 35  Max              34374 non-null  float64\n",
            " 36  AVG              34374 non-null  float64\n",
            " 37  Std              34374 non-null  float64\n",
            " 38  Tot size         34374 non-null  float64\n",
            " 39  IAT              34374 non-null  float64\n",
            " 40  Number           34374 non-null  float64\n",
            " 41  Magnitue         34374 non-null  float64\n",
            " 42  Radius           34374 non-null  float64\n",
            " 43  Covariance       34374 non-null  float64\n",
            " 44  Variance         34374 non-null  float64\n",
            " 45  Weight           34374 non-null  float64\n",
            " 46  attack           34374 non-null  object \n",
            " 47  xlabel           34374 non-null  object \n",
            " 48  label            34374 non-null  int64  \n",
            "dtypes: float64(46), int64(1), object(2)\n",
            "memory usage: 13.1+ MB\n",
            "/content/drive/MyDrive/Mphill/MyPapers/RL_DoS/bal_dos.csv saved\n"
          ]
        }
      ]
    },
    {
      "cell_type": "code",
      "source": [
        "from datetime import datetime\n",
        "import pytz\n",
        "\n",
        "# Define the timezone for GMT+5:30\n",
        "tz = pytz.timezone('Asia/Kolkata')\n",
        "\n",
        "# Get the current time in that timezone\n",
        "current_time = datetime.now(tz)\n",
        "\n",
        "# Print the current date and time\n",
        "print(\"Current date and time in GMT+5:30:\", current_time.strftime('%Y-%m-%d %H:%M:%S'))\n"
      ],
      "metadata": {
        "id": "jQs2Nf1jR8Cp",
        "colab": {
          "base_uri": "https://localhost:8080/"
        },
        "outputId": "db72f958-17cd-4d24-d385-fd186c47938d"
      },
      "execution_count": 13,
      "outputs": [
        {
          "output_type": "stream",
          "name": "stdout",
          "text": [
            "Current date and time in GMT+5:30: 2024-08-17 09:15:25\n"
          ]
        }
      ]
    }
  ]
}